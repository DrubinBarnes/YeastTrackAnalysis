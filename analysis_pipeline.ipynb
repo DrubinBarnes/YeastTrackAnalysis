{
 "cells": [
  {
   "cell_type": "code",
   "execution_count": 2,
   "metadata": {
    "collapsed": true
   },
   "outputs": [],
   "source": [
    "# by Joh Schöneberg 2018/2019\n",
    "\n",
    "%matplotlib inline\n",
    "import numpy as np\n",
    "import matplotlib.pyplot as plt\n",
    "import pandas as pd\n",
    "\n",
    "#pathOfTheYeastTrackAnalysisFolder = '/Users/sun.hong/Desktop/YeastTrackAnalysis-master/'\n",
    "pathOfTheYeastTrackAnalysisFolder = '/Users/johannesschoeneberg/git/DrubinBarnes/YeastTrackAnalysis/'\n",
    "\n",
    "import sys\n",
    "pythonPackagePath = pathOfTheYeastTrackAnalysisFolder+\"/src/\"\n",
    "sys.path.append(pythonPackagePath)\n",
    "import YeastTrackFunctions as ytf"
   ]
  },
  {
   "cell_type": "markdown",
   "metadata": {},
   "source": [
    "# input data"
   ]
  },
  {
   "cell_type": "code",
   "execution_count": 3,
   "metadata": {
    "collapsed": true
   },
   "outputs": [],
   "source": [
    "#path = \"/Users/sun.hong/Desktop/YeastTrackAnalysis-master/dataToAnalyze/\"\n",
    "path = \"/Users/johannesschoeneberg/git/DrubinBarnes/YeastTrackAnalysis/sample_data_goodFromExcel/forJoh/\"\n",
    "\n",
    "################\n",
    "# THESE ARE THE ONLY PARAMETERS TO CHANGE\n",
    "\n",
    "# change your filename to the file you want to analyze\n",
    "path_to_all_tracks_data = path+\"sla1/\"\n",
    "#path_to_all_tracks_data = path+\"fission_yeast_fim1_gfp/\"\n",
    "\n",
    "allTracksFilename = 'all_tracks.csv'\n",
    "\n",
    "goodTrajectoryIDsFilename = 'tracknumbers.csv'\n",
    "\n",
    "# \n",
    "frameToSecondConversion = 0.503\n",
    "pixelToNanometerConversion = 65\n",
    "\n",
    "excludeTheFirstNFrames = 5\n",
    "\n",
    "\n",
    "align_intensity_threshold = 0.5 # 50% intensity alignment\n",
    "showInflectionPointLines = True # toggle inflection point lines in the plot\n",
    "\n",
    "\n",
    "################\n",
    "\n",
    "outputpath = path_to_all_tracks_data"
   ]
  },
  {
   "cell_type": "markdown",
   "metadata": {},
   "source": [
    "# Option 1: Get all the good fileIDs from the folder"
   ]
  },
  {
   "cell_type": "code",
   "execution_count": 4,
   "metadata": {},
   "outputs": [
    {
     "name": "stdout",
     "output_type": "stream",
     "text": [
      "[Trajectory number 42].tif , 42\n",
      "[Trajectory number 142].tif , 142\n",
      "[Trajectory number 59].tif , 59\n",
      "[Trajectory number 172].tif , 172\n",
      "[Trajectory number 69].tif , 69\n",
      "[Trajectory number 73].tif , 73\n",
      "[Trajectory number 170].tif , 170\n",
      "[Trajectory number 126].tif , 126\n",
      "[Trajectory number 67].tif , 67\n",
      "[Trajectory number 57].tif , 57\n",
      "[Trajectory number 16].tif , 16\n",
      "[ 16  42  57  59  67  69  73 126 142 170 172]\n"
     ]
    }
   ],
   "source": [
    "from os import listdir\n",
    "from os.path import isfile, join\n",
    "onlyfiles = [f for f in listdir(path_to_all_tracks_data) if isfile(join(path_to_all_tracks_data, f))]\n",
    "#print(onlyfiles)\n",
    "\n",
    "\n",
    "goodTrajectoryIDs = []\n",
    "for filename in onlyfiles:\n",
    "    if (filename != '.DS_Store'):\n",
    "        if '.csv' not in filename:\n",
    "            if '.png' not in filename:\n",
    "                number = int((filename.replace('[Trajectory number ','')).replace('].tif',''))\n",
    "                print(filename,\",\",number)\n",
    "                goodTrajectoryIDs.append(number)\n",
    "goodTrajectoryIDs = np.sort(goodTrajectoryIDs)\n",
    "print(goodTrajectoryIDs)"
   ]
  },
  {
   "cell_type": "markdown",
   "metadata": {},
   "source": [
    "# Option 2: Get all the good trajectory IDs from a CSV"
   ]
  },
  {
   "cell_type": "code",
   "execution_count": 5,
   "metadata": {},
   "outputs": [
    {
     "name": "stdout",
     "output_type": "stream",
     "text": [
      "[ 16  42  57  59  67  69  73 126 142 170 172]\n"
     ]
    }
   ],
   "source": [
    "goodTrajecotryIDsFile = pd.read_csv(path+goodTrajectoryIDsFilename,header=None,names=['goodTrajectoryIDs'])\n",
    "goodTrajectoryIDs = goodTrajecotryIDsFile['goodTrajectoryIDs'].values\n",
    "goodTrajectoryIDs = np.sort(goodTrajectoryIDs)\n",
    "print(goodTrajectoryIDs)"
   ]
  },
  {
   "cell_type": "markdown",
   "metadata": {},
   "source": [
    "# read data"
   ]
  },
  {
   "cell_type": "code",
   "execution_count": 6,
   "metadata": {},
   "outputs": [
    {
     "name": "stdout",
     "output_type": "stream",
     "text": [
      "/Users/johannesschoeneberg/git/DrubinBarnes/YeastTrackAnalysis/sample_data_goodFromExcel/forJoh/all_tracks.csv\n"
     ]
    },
    {
     "data": {
      "text/html": [
       "<div>\n",
       "<style scoped>\n",
       "    .dataframe tbody tr th:only-of-type {\n",
       "        vertical-align: middle;\n",
       "    }\n",
       "\n",
       "    .dataframe tbody tr th {\n",
       "        vertical-align: top;\n",
       "    }\n",
       "\n",
       "    .dataframe thead th {\n",
       "        text-align: right;\n",
       "    }\n",
       "</style>\n",
       "<table border=\"1\" class=\"dataframe\">\n",
       "  <thead>\n",
       "    <tr style=\"text-align: right;\">\n",
       "      <th></th>\n",
       "      <th></th>\n",
       "      <th>Trajectory</th>\n",
       "      <th>Frame</th>\n",
       "      <th>x</th>\n",
       "      <th>y</th>\n",
       "      <th>z</th>\n",
       "      <th>m0</th>\n",
       "      <th>m1</th>\n",
       "      <th>m2</th>\n",
       "      <th>m3</th>\n",
       "      <th>m4</th>\n",
       "      <th>NPscore</th>\n",
       "    </tr>\n",
       "  </thead>\n",
       "  <tbody>\n",
       "    <tr>\n",
       "      <th>0</th>\n",
       "      <td>1</td>\n",
       "      <td>1</td>\n",
       "      <td>0</td>\n",
       "      <td>178.64059</td>\n",
       "      <td>1.73866</td>\n",
       "      <td>0</td>\n",
       "      <td>1.01021</td>\n",
       "      <td>1.53177</td>\n",
       "      <td>3.14896</td>\n",
       "      <td>8.09806</td>\n",
       "      <td>25.60173</td>\n",
       "      <td>0.00420</td>\n",
       "    </tr>\n",
       "    <tr>\n",
       "      <th>1</th>\n",
       "      <td>2</td>\n",
       "      <td>1</td>\n",
       "      <td>1</td>\n",
       "      <td>178.60283</td>\n",
       "      <td>1.56601</td>\n",
       "      <td>0</td>\n",
       "      <td>1.14311</td>\n",
       "      <td>1.42251</td>\n",
       "      <td>2.64485</td>\n",
       "      <td>6.01314</td>\n",
       "      <td>16.99628</td>\n",
       "      <td>0.00244</td>\n",
       "    </tr>\n",
       "    <tr>\n",
       "      <th>2</th>\n",
       "      <td>3</td>\n",
       "      <td>1</td>\n",
       "      <td>2</td>\n",
       "      <td>179.00352</td>\n",
       "      <td>1.21462</td>\n",
       "      <td>0</td>\n",
       "      <td>1.27055</td>\n",
       "      <td>1.40107</td>\n",
       "      <td>2.48887</td>\n",
       "      <td>5.04188</td>\n",
       "      <td>11.40581</td>\n",
       "      <td>0.00249</td>\n",
       "    </tr>\n",
       "    <tr>\n",
       "      <th>3</th>\n",
       "      <td>4</td>\n",
       "      <td>1</td>\n",
       "      <td>3</td>\n",
       "      <td>179.21675</td>\n",
       "      <td>1.20335</td>\n",
       "      <td>0</td>\n",
       "      <td>1.14310</td>\n",
       "      <td>1.33682</td>\n",
       "      <td>2.22493</td>\n",
       "      <td>4.14449</td>\n",
       "      <td>8.52171</td>\n",
       "      <td>0.00250</td>\n",
       "    </tr>\n",
       "    <tr>\n",
       "      <th>4</th>\n",
       "      <td>5</td>\n",
       "      <td>1</td>\n",
       "      <td>4</td>\n",
       "      <td>179.17406</td>\n",
       "      <td>1.34643</td>\n",
       "      <td>0</td>\n",
       "      <td>1.29711</td>\n",
       "      <td>1.43147</td>\n",
       "      <td>2.76732</td>\n",
       "      <td>6.73493</td>\n",
       "      <td>20.44237</td>\n",
       "      <td>0.00260</td>\n",
       "    </tr>\n",
       "  </tbody>\n",
       "</table>\n",
       "</div>"
      ],
      "text/plain": [
       "      Trajectory  Frame          x        y  z       m0       m1       m2  \\\n",
       "0  1           1      0  178.64059  1.73866  0  1.01021  1.53177  3.14896   \n",
       "1  2           1      1  178.60283  1.56601  0  1.14311  1.42251  2.64485   \n",
       "2  3           1      2  179.00352  1.21462  0  1.27055  1.40107  2.48887   \n",
       "3  4           1      3  179.21675  1.20335  0  1.14310  1.33682  2.22493   \n",
       "4  5           1      4  179.17406  1.34643  0  1.29711  1.43147  2.76732   \n",
       "\n",
       "        m3        m4  NPscore  \n",
       "0  8.09806  25.60173  0.00420  \n",
       "1  6.01314  16.99628  0.00244  \n",
       "2  5.04188  11.40581  0.00249  \n",
       "3  4.14449   8.52171  0.00250  \n",
       "4  6.73493  20.44237  0.00260  "
      ]
     },
     "execution_count": 6,
     "metadata": {},
     "output_type": "execute_result"
    }
   ],
   "source": [
    "print(path+allTracksFilename)\n",
    "alldata = pd.read_csv(path+allTracksFilename)\n",
    "\n",
    "alldata[0:5]"
   ]
  },
  {
   "cell_type": "markdown",
   "metadata": {
    "collapsed": true
   },
   "source": [
    "# data processing"
   ]
  },
  {
   "cell_type": "code",
   "execution_count": 8,
   "metadata": {},
   "outputs": [
    {
     "name": "stdout",
     "output_type": "stream",
     "text": [
      "2\n",
      "/Users/johannesschoeneberg/git/DrubinBarnes/YeastTrackAnalysis/sample_data_goodFromExcel/forJoh/sla1/all_tracks.csv_16_processed.csv\n",
      "0\n",
      "/Users/johannesschoeneberg/git/DrubinBarnes/YeastTrackAnalysis/sample_data_goodFromExcel/forJoh/sla1/all_tracks.csv_42_processed.csv\n",
      "0\n",
      "/Users/johannesschoeneberg/git/DrubinBarnes/YeastTrackAnalysis/sample_data_goodFromExcel/forJoh/sla1/all_tracks.csv_57_processed.csv\n",
      "1\n",
      "/Users/johannesschoeneberg/git/DrubinBarnes/YeastTrackAnalysis/sample_data_goodFromExcel/forJoh/sla1/all_tracks.csv_59_processed.csv\n",
      "5\n",
      "/Users/johannesschoeneberg/git/DrubinBarnes/YeastTrackAnalysis/sample_data_goodFromExcel/forJoh/sla1/all_tracks.csv_67_processed.csv\n",
      "0\n",
      "/Users/johannesschoeneberg/git/DrubinBarnes/YeastTrackAnalysis/sample_data_goodFromExcel/forJoh/sla1/all_tracks.csv_69_processed.csv\n",
      "0\n",
      "/Users/johannesschoeneberg/git/DrubinBarnes/YeastTrackAnalysis/sample_data_goodFromExcel/forJoh/sla1/all_tracks.csv_73_processed.csv\n",
      "0\n",
      "/Users/johannesschoeneberg/git/DrubinBarnes/YeastTrackAnalysis/sample_data_goodFromExcel/forJoh/sla1/all_tracks.csv_126_processed.csv\n",
      "0\n",
      "/Users/johannesschoeneberg/git/DrubinBarnes/YeastTrackAnalysis/sample_data_goodFromExcel/forJoh/sla1/all_tracks.csv_142_processed.csv\n",
      "11\n",
      "/Users/johannesschoeneberg/git/DrubinBarnes/YeastTrackAnalysis/sample_data_goodFromExcel/forJoh/sla1/all_tracks.csv_170_processed.csv\n",
      "13\n",
      "/Users/johannesschoeneberg/git/DrubinBarnes/YeastTrackAnalysis/sample_data_goodFromExcel/forJoh/sla1/all_tracks.csv_172_processed.csv\n",
      "/Users/johannesschoeneberg/git/DrubinBarnes/YeastTrackAnalysis/sample_data_goodFromExcel/forJoh/sla1/all_tracks.csv_allProcessedFilePaths.csv\n"
     ]
    }
   ],
   "source": [
    "listOfOutputFilePaths = []\n",
    "\n",
    "for trajectoryID in goodTrajectoryIDs:\n",
    "    \n",
    "    \n",
    "    # get the data from a single trajectory\n",
    "    data = alldata[alldata['Trajectory']==trajectoryID]\n",
    "    data = data[excludeTheFirstNFrames:-1]\n",
    "    data = data.reset_index(drop=True)\n",
    "\n",
    "\n",
    "    # retrieve values\n",
    "        \n",
    "    x = data['x'].values\n",
    "    y = data['y'].values\n",
    "    intensity = data['m0']\n",
    "    time = frameToSecondConversion*data['Frame']\n",
    "    \n",
    "    \n",
    "    # calculate lifetime\n",
    "    lifetime_frames = len(x)\n",
    "    lifetime_seconds = np.round(frameToSecondConversion*lifetime_frames,decimals = 2)\n",
    "    \n",
    "    # calc distances from start\n",
    "\n",
    "    distancesFromStart = []\n",
    "    for i in range(1,len(data)):\n",
    "        v0 = np.array([x[0],y[0]])\n",
    "        v1 = np.array([x[i],y[i]])\n",
    "        dist = np.linalg.norm(v0-v1)\n",
    "        distancesFromStart.append(dist)\n",
    "    distancesFromStart = pixelToNanometerConversion* np.array(distancesFromStart)\n",
    "    distanceForExport = np.concatenate((np.array([0]),distancesFromStart))\n",
    "    data['distance[nm]']=distanceForExport\n",
    "    \n",
    "    \n",
    "    # speed\n",
    "    frameByFrameDistances = []\n",
    "    for i in range(1,len(data)):\n",
    "        v0 = np.array([x[i-1],y[i-1]])\n",
    "        v1 = np.array([x[i],y[i]])\n",
    "        dist = np.linalg.norm(v0-v1)\n",
    "        frameByFrameDistances.append(dist)\n",
    "    frameByFrameDistances = np.array(frameByFrameDistances)\n",
    "    data['speed[nm]'] = np.concatenate((np.array([0]),pixelToNanometerConversion*frameByFrameDistances))\n",
    "\n",
    "\n",
    "    \n",
    "    # find inflection point from distances \n",
    "    \n",
    "    x=np.arange(0,len(distancesFromStart))\n",
    "    y=distancesFromStart\n",
    "    inflectionPointIndex = ytf.findInflectionPoint(x,y)  \n",
    "    inflectionPointFrame = data['Frame'][inflectionPointIndex]\n",
    "    inflectionPointTime = frameToSecondConversion*(data['Frame'][inflectionPointIndex])\n",
    "    inflectionPointIntensity = data['m0'][inflectionPointIndex]\n",
    "    \n",
    "\n",
    "    # find inflection point from intensity\n",
    "    intensity = data['m0']\n",
    "    max_intensity_AU  = np.round(np.max(intensity),decimals=2)\n",
    "    inflectionPointIntensity_AU = align_intensity_threshold*max_intensity_AU\n",
    "    inflectionPoint_fromIntensity_index = np.where(intensity>inflectionPointIntensity_AU)[0][0]\n",
    "    print(inflectionPoint_fromIntensity_index)\n",
    "    inflectionPoint_fromIntensity_Frame = data['Frame'][inflectionPoint_fromIntensity_index]\n",
    "    inflectionPoint_fromIntensity_Time = frameToSecondConversion*(data['Frame'][inflectionPoint_fromIntensity_index])\n",
    "    inflectionPoint_fromIntensity_Intensity = data['m0'][inflectionPoint_fromIntensity_index]\n",
    "   \n",
    "\n",
    "    # export as excels\n",
    "    data['time[s]']=time\n",
    "    data['lifetime_frames'] = lifetime_frames\n",
    "    data['lifetime_seconds'] = lifetime_seconds\n",
    "    data['max_intensity_AU'] = np.round(np.max(intensity),decimals=2)\n",
    "    normDistanceForExport = np.concatenate((np.array([0]),(distancesFromStart-np.min(distancesFromStart))/np.max(distancesFromStart-np.min(distancesFromStart))))\n",
    "    data['distance normalized']= normDistanceForExport\n",
    "    \n",
    "    #inflection point by distance\n",
    "    data['inflectionPointIndex']=inflectionPointIndex\n",
    "    data['inflectionPointFrame']=inflectionPointFrame\n",
    "    data['inflectionPointTime']=inflectionPointTime\n",
    "    data['inflectionPointIntensity']=inflectionPointIntensity\n",
    "    \n",
    "    data['time aligned[s]']=time-inflectionPointTime\n",
    "    data['alignment_frame_Id'] = inflectionPointFrame\n",
    "    data['alignment_time_seconds'] = inflectionPointTime\n",
    "    data['alignment_intensity_AU']= inflectionPointIntensity\n",
    "    \n",
    "    #inflection point by intensity\n",
    "    data['align_intensity_threshold'] = align_intensity_threshold\n",
    "    data['inflectionPoint_fromIntensity_Index']=inflectionPoint_fromIntensity_index\n",
    "    data['inflectionPoint_fromIntensity_Frame']=inflectionPoint_fromIntensity_Frame\n",
    "    data['inflectionPoint_fromIntensity_Time']=inflectionPoint_fromIntensity_Time\n",
    "    data['inflectionPoint_fromIntensity_Intensity']=inflectionPoint_fromIntensity_Intensity\n",
    "    \n",
    "    data['time aligned_byIntensity[s]']=time-inflectionPoint_fromIntensity_Time\n",
    "    data['alignment_byIntensity_frame_Id'] = inflectionPointFrame\n",
    "    data['alignment_byIntensity_time_seconds'] = inflectionPointTime\n",
    "    data['alignment_byIntensity_intensity_AU']= inflectionPointIntensity\n",
    "\n",
    "\n",
    "    outputFilePath = outputpath+allTracksFilename+'_'+str(trajectoryID)+'_processed.csv'\n",
    "    print(outputFilePath)\n",
    "    listOfOutputFilePaths.append(outputFilePath)\n",
    "    data.to_csv(outputFilePath)\n",
    "    \n",
    "processedDataFilePath = outputpath+allTracksFilename+'_allProcessedFilePaths.csv'\n",
    "print(processedDataFilePath)\n",
    "df = pd.DataFrame()\n",
    "df['filenames'] = listOfOutputFilePaths\n",
    "df.to_csv(processedDataFilePath)\n"
   ]
  },
  {
   "cell_type": "markdown",
   "metadata": {},
   "source": [
    "# plotting"
   ]
  },
  {
   "cell_type": "code",
   "execution_count": 9,
   "metadata": {
    "collapsed": true
   },
   "outputs": [],
   "source": [
    "def plotOverview(outputFilePath):\n",
    "    \n",
    "\n",
    "    \n",
    "    ################\n",
    "    # gather the data for plotting\n",
    "    ################\n",
    "    \n",
    "    data = pd.read_csv(outputFilePath)\n",
    "    x = data['x'].values\n",
    "    y = data['y'].values\n",
    "    intensity = data['m0']\n",
    "    distance = data['distance[nm]']\n",
    "    speed = data['speed[nm]']\n",
    "    time = data['time[s]']\n",
    "    \n",
    "    # single point data\n",
    "    inflectionPointIndex = data['inflectionPointIndex'][0]\n",
    "    inflectionPoint_fromIntensity_Index = data['inflectionPoint_fromIntensity_Index'][0]\n",
    "    inflectionPointIndex = data['inflectionPointIndex'][0]\n",
    "    inflectionPointFrame = data['inflectionPointFrame'][0]\n",
    "    inflectionPointTime = data['inflectionPointTime'][0]\n",
    "    inflectionPointIntensity = data['inflectionPointIntensity'][0]\n",
    "    max_intensity_AU = data['max_intensity_AU'][0]\n",
    "    lifetime_frames = data['lifetime_frames'][0]\n",
    "    lifetime_seconds = data['lifetime_seconds'][0]\n",
    "    trackId = data['Trajectory'][0]\n",
    "\n",
    "    \n",
    "    \n",
    "    ################\n",
    "    # setup the plot\n",
    "    ################\n",
    "    ncols =5.\n",
    "    fig = plt.figure(figsize=plt.figaspect(1/(ncols)),dpi=300)\n",
    "\n",
    "\n",
    "    \n",
    "    ################\n",
    "    # 1st subplot\n",
    "    ################\n",
    "    ax = fig.add_subplot(1, ncols, 1)\n",
    "    \n",
    "    ax.plot(x,y,lw=3)\n",
    "    ax.set_xlabel('x')\n",
    "    ax.set_ylabel('y')\n",
    "    ax.set_aspect('equal', adjustable='box')\n",
    "    \n",
    "    \n",
    "    \n",
    "        \n",
    "    ################\n",
    "    # 1.5st subplot\n",
    "    ################\n",
    "    ax = fig.add_subplot(1, ncols, 2)\n",
    "    \n",
    "    ax.plot(time,intensity,lw=3)\n",
    "    ax.set_xlabel('time[s]')\n",
    "    ax.set_ylabel('intensity[AU]')\n",
    "    ax.set_aspect('auto', adjustable='box')\n",
    "    \n",
    "        \n",
    "    #################\n",
    "    # 2nd subplot\n",
    "    #################\n",
    "    ax = fig.add_subplot(1, ncols, 3)\n",
    "    \n",
    "    ax.plot(time,distance,lw=3)\n",
    "    ax.set_xlabel('time[s]')\n",
    "    ax.set_ylabel('distance[nm]')\n",
    "    \n",
    "    \n",
    "    #################\n",
    "    # 3rd subplot\n",
    "    #################\n",
    "    ax = fig.add_subplot(1, ncols, 4)\n",
    "    \n",
    "\n",
    "    plt.plot(time,speed,lw=3)\n",
    "    ax.set_xlabel('time[s]')\n",
    "    ax.set_ylabel('speed[nm]')\n",
    "    \n",
    "    \n",
    "    ################\n",
    "    # 4th subplot\n",
    "    ################\n",
    "    ax = fig.add_subplot(1, ncols, 5)\n",
    "    ax.set_title('_')\n",
    "    \n",
    "    \n",
    "    plt.plot(time,(distance-np.min(distance))/np.max(distance-np.min(distance)),lw=3)\n",
    "    plt.plot(time,(intensity-np.min(intensity))/np.max(intensity-np.min(intensity)),lw=3)\n",
    "    \n",
    "    plt.xlabel('time [s]')\n",
    "    plt.ylabel('dist [nm] \\ intensity [AU]')\n",
    "    \n",
    "    \n",
    "    if(showInflectionPointLines):\n",
    "        plt.axvline(time[0:-1][inflectionPointIndex],c='k')\n",
    "        plt.axvline(time[0:-1][inflectionPoint_fromIntensity_Index],c='red')\n",
    "    \n",
    "\n",
    "    \n",
    "    plt.suptitle(\"TrackID: {}, Lifetime: {}frames = {}s, MaxInt: {}[AU]\\n \\n\".format(trackId,lifetime_frames,lifetime_seconds,max_intensity_AU))\n",
    "    \n",
    "    plt.tight_layout ()\n",
    "    \n",
    "    \n",
    "    outputFigurePath= outputFilePath+\".png\"\n",
    "    print(outputFigurePath)\n",
    "    plt.savefig(outputFigurePath)\n",
    "    plt.show()\n",
    "    \n",
    "\n",
    "    \n",
    "    plt.close()"
   ]
  },
  {
   "cell_type": "markdown",
   "metadata": {},
   "source": [
    "# Plot all the tracks in the folder"
   ]
  },
  {
   "cell_type": "code",
   "execution_count": 12,
   "metadata": {
    "scrolled": false
   },
   "outputs": [],
   "source": [
    "verbose = False\n",
    "if(verbose):\n",
    "    for outputFilePath in listOfOutputFilePaths:\n",
    "        plotOverview(outputFilePath)"
   ]
  },
  {
   "cell_type": "markdown",
   "metadata": {},
   "source": [
    "# Do the averaging et al."
   ]
  },
  {
   "cell_type": "code",
   "execution_count": 11,
   "metadata": {},
   "outputs": [
    {
     "data": {
      "text/html": [
       "<div>\n",
       "<style scoped>\n",
       "    .dataframe tbody tr th:only-of-type {\n",
       "        vertical-align: middle;\n",
       "    }\n",
       "\n",
       "    .dataframe tbody tr th {\n",
       "        vertical-align: top;\n",
       "    }\n",
       "\n",
       "    .dataframe thead th {\n",
       "        text-align: right;\n",
       "    }\n",
       "</style>\n",
       "<table border=\"1\" class=\"dataframe\">\n",
       "  <thead>\n",
       "    <tr style=\"text-align: right;\">\n",
       "      <th></th>\n",
       "      <th>Unnamed: 0</th>\n",
       "      <th>filenames</th>\n",
       "    </tr>\n",
       "  </thead>\n",
       "  <tbody>\n",
       "    <tr>\n",
       "      <th>0</th>\n",
       "      <td>0</td>\n",
       "      <td>/Users/johannesschoeneberg/git/DrubinBarnes/Ye...</td>\n",
       "    </tr>\n",
       "    <tr>\n",
       "      <th>1</th>\n",
       "      <td>1</td>\n",
       "      <td>/Users/johannesschoeneberg/git/DrubinBarnes/Ye...</td>\n",
       "    </tr>\n",
       "    <tr>\n",
       "      <th>2</th>\n",
       "      <td>2</td>\n",
       "      <td>/Users/johannesschoeneberg/git/DrubinBarnes/Ye...</td>\n",
       "    </tr>\n",
       "    <tr>\n",
       "      <th>3</th>\n",
       "      <td>3</td>\n",
       "      <td>/Users/johannesschoeneberg/git/DrubinBarnes/Ye...</td>\n",
       "    </tr>\n",
       "    <tr>\n",
       "      <th>4</th>\n",
       "      <td>4</td>\n",
       "      <td>/Users/johannesschoeneberg/git/DrubinBarnes/Ye...</td>\n",
       "    </tr>\n",
       "  </tbody>\n",
       "</table>\n",
       "</div>"
      ],
      "text/plain": [
       "   Unnamed: 0                                          filenames\n",
       "0           0  /Users/johannesschoeneberg/git/DrubinBarnes/Ye...\n",
       "1           1  /Users/johannesschoeneberg/git/DrubinBarnes/Ye...\n",
       "2           2  /Users/johannesschoeneberg/git/DrubinBarnes/Ye...\n",
       "3           3  /Users/johannesschoeneberg/git/DrubinBarnes/Ye...\n",
       "4           4  /Users/johannesschoeneberg/git/DrubinBarnes/Ye..."
      ]
     },
     "execution_count": 11,
     "metadata": {},
     "output_type": "execute_result"
    }
   ],
   "source": [
    "filenamesData = pd.read_csv(outputpath+allTracksFilename+\"_allProcessedFilePaths.csv\")\n",
    "filenamesData[0:5]"
   ]
  },
  {
   "cell_type": "code",
   "execution_count": null,
   "metadata": {
    "collapsed": true
   },
   "outputs": [],
   "source": [
    "# get all lifetimes\n",
    "\n",
    "trackIds = []\n",
    "lifetimes_frames = []\n",
    "lifetimes_seconds = []\n",
    "maxIntensities = []\n",
    "\n",
    "filenames = filenamesData['filenames']\n",
    "for filename in filenames:\n",
    "\n",
    "    data = pd.read_csv(filename)\n",
    "    \n",
    "    max_intensity_AU = data['max_intensity_AU'][0]\n",
    "    lifetime_frames = data['lifetime_frames'][0]\n",
    "    lifetime_seconds = data['lifetime_seconds'][0]\n",
    "    trackId = data['Trajectory'][0]\n",
    "    \n",
    "    trackIds.append(trackId)\n",
    "    lifetimes_frames.append(lifetime_frames)\n",
    "    lifetimes_seconds.append(lifetime_seconds)\n",
    "    maxIntensities.append(max_intensity_AU)\n",
    "\n",
    "# export these values into an excel\n",
    "combinedDataFilePath = outputpath+allTracksFilename+'_allProcessedFiles_summary.csv'\n",
    "print(combinedDataFilePath)\n",
    "df = pd.DataFrame()\n",
    "df['trackIds'] = trackIds\n",
    "df['lifetimes_frames'] = lifetimes_frames\n",
    "df['lifetimes_seconds'] = lifetimes_seconds\n",
    "df['maxIntensities'] = maxIntensities\n",
    "df.to_csv(combinedDataFilePath)"
   ]
  },
  {
   "cell_type": "code",
   "execution_count": null,
   "metadata": {
    "collapsed": true
   },
   "outputs": [],
   "source": [
    "print(lifetimes_frames)"
   ]
  },
  {
   "cell_type": "code",
   "execution_count": null,
   "metadata": {
    "collapsed": true
   },
   "outputs": [],
   "source": [
    "plt.figure(dpi=300)\n",
    "plt.boxplot(lifetimes_frames)\n",
    "plt.title('lifetimes_frames distribution')\n",
    "plt.ylabel('lifetime [frames]')\n",
    "outputFigurePath= outputpath+\"plot_lifetime_frames_distribution.png\"\n",
    "print(outputFigurePath)\n",
    "plt.savefig(outputFigurePath)"
   ]
  },
  {
   "cell_type": "code",
   "execution_count": null,
   "metadata": {
    "collapsed": true
   },
   "outputs": [],
   "source": [
    "plt.figure(dpi=300)\n",
    "plt.boxplot(lifetimes_seconds)\n",
    "plt.title('lifetimes_seconds distribution')\n",
    "plt.ylabel('lifetime [s]')\n",
    "outputFigurePath= outputpath+\"plot_lifetime_seconds_distribution.png\"\n",
    "print(outputFigurePath)\n",
    "plt.savefig(outputFigurePath)"
   ]
  },
  {
   "cell_type": "code",
   "execution_count": null,
   "metadata": {
    "collapsed": true
   },
   "outputs": [],
   "source": [
    "plt.figure(dpi=300)\n",
    "plt.boxplot(maxIntensities)\n",
    "plt.title('max intensity distribution')\n",
    "plt.ylabel('max intensity [AU]')\n",
    "outputFigurePath= outputpath+\"plot_maxIntensity_distribution.png\"\n",
    "print(outputFigurePath)\n",
    "plt.savefig(outputFigurePath)"
   ]
  },
  {
   "cell_type": "markdown",
   "metadata": {},
   "source": [
    "# Averaging - Align by Distance"
   ]
  },
  {
   "cell_type": "code",
   "execution_count": null,
   "metadata": {
    "collapsed": true
   },
   "outputs": [],
   "source": [
    "plt.figure(dpi=300)\n",
    "filenames = filenamesData['filenames']\n",
    "for filename in filenames:\n",
    "\n",
    "    data = pd.read_csv(filename)\n",
    "    \n",
    "    x = data['x'].values\n",
    "    y = data['y'].values\n",
    "    intensity = data['m0']\n",
    "    distance = data['distance[nm]']\n",
    "    speed = data['speed[nm]']\n",
    "    time = data['time[s]']\n",
    "    \n",
    "    # single point data\n",
    "    inflectionPointIndex = data['inflectionPointIndex'][0]\n",
    "    inflectionPoint_fromIntensity_Index = data['inflectionPoint_fromIntensity_Index'][0]\n",
    "    inflectionPointIndex = data['inflectionPointIndex'][0]\n",
    "    inflectionPointFrame = data['inflectionPointFrame'][0]\n",
    "    inflectionPointTime = data['inflectionPointTime'][0]\n",
    "    inflectionPointIntensity = data['inflectionPointIntensity'][0]\n",
    "    max_intensity_AU = data['max_intensity_AU'][0]\n",
    "    lifetime_frames = data['lifetime_frames'][0]\n",
    "    lifetime_seconds = data['lifetime_seconds'][0]\n",
    "    trackId = data['Trajectory'][0]\n",
    "    \n",
    "    ################\n",
    "    # 4th subplot\n",
    "    ################\n",
    "    \n",
    "    \n",
    "    #plt.plot(time-inflectionPointTime,(distance-np.min(distance))/np.max(distance-np.min(distance)),lw=3)\n",
    "    plt.plot(time-inflectionPointTime,(intensity-np.min(intensity))/np.max(intensity-np.min(intensity)),lw=0.1)\n",
    "    \n",
    "    plt.xlabel('time [s]')\n",
    "    plt.ylabel('intensity [AU]')\n",
    "    \n",
    "outputFigurePath= outputpath+\"plot_alignedByDistance_intensity_individuals.png\"\n",
    "print(outputFigurePath)\n",
    "plt.savefig(outputFigurePath)\n",
    "    \n",
    "    "
   ]
  },
  {
   "cell_type": "code",
   "execution_count": null,
   "metadata": {
    "collapsed": true
   },
   "outputs": [],
   "source": [
    "plt.figure(dpi=300)\n",
    "filenames = filenamesData['filenames']\n",
    "for filename in filenames:\n",
    "\n",
    "    data = pd.read_csv(filename)\n",
    "    \n",
    "    x = data['x'].values\n",
    "    y = data['y'].values\n",
    "    intensity = data['m0']\n",
    "    distance = data['distance[nm]']\n",
    "    speed = data['speed[nm]']\n",
    "    time = data['time[s]']\n",
    "    \n",
    "    # single point data\n",
    "    inflectionPointIndex = data['inflectionPointIndex'][0]\n",
    "    inflectionPoint_fromIntensity_Index = data['inflectionPoint_fromIntensity_Index'][0]\n",
    "    inflectionPointIndex = data['inflectionPointIndex'][0]\n",
    "    inflectionPointFrame = data['inflectionPointFrame'][0]\n",
    "    inflectionPointTime = data['inflectionPointTime'][0]\n",
    "    inflectionPointIntensity = data['inflectionPointIntensity'][0]\n",
    "    max_intensity_AU = data['max_intensity_AU'][0]\n",
    "    lifetime_frames = data['lifetime_frames'][0]\n",
    "    lifetime_seconds = data['lifetime_seconds'][0]\n",
    "    trackId = data['Trajectory'][0]\n",
    "    \n",
    "    ################\n",
    "    # 4th subplot\n",
    "    ################\n",
    "    \n",
    "    \n",
    "    plt.plot(time-inflectionPointTime,(distance-np.min(distance))/np.max(distance-np.min(distance)),lw=0.1)\n",
    "    #plt.plot(time-inflectionPointTime,(intensity-np.min(intensity))/np.max(intensity-np.min(intensity)),lw=1)\n",
    "    \n",
    "    plt.xlabel('time [s]')\n",
    "    plt.ylabel('dist [nm]')\n",
    "    \n",
    "outputFigurePath= outputpath+\"plot_alignedByDistance_distance_individuals.png\"\n",
    "print(outputFigurePath)\n",
    "plt.savefig(outputFigurePath)\n",
    "    "
   ]
  },
  {
   "cell_type": "code",
   "execution_count": null,
   "metadata": {
    "collapsed": true
   },
   "outputs": [],
   "source": []
  },
  {
   "cell_type": "code",
   "execution_count": null,
   "metadata": {
    "collapsed": true
   },
   "outputs": [],
   "source": []
  },
  {
   "cell_type": "code",
   "execution_count": null,
   "metadata": {
    "collapsed": true
   },
   "outputs": [],
   "source": []
  },
  {
   "cell_type": "code",
   "execution_count": null,
   "metadata": {
    "collapsed": true
   },
   "outputs": [],
   "source": []
  },
  {
   "cell_type": "code",
   "execution_count": null,
   "metadata": {
    "collapsed": true
   },
   "outputs": [],
   "source": []
  }
 ],
 "metadata": {
  "kernelspec": {
   "display_name": "Python 3",
   "language": "python",
   "name": "python3"
  },
  "language_info": {
   "codemirror_mode": {
    "name": "ipython",
    "version": 3
   },
   "file_extension": ".py",
   "mimetype": "text/x-python",
   "name": "python",
   "nbconvert_exporter": "python",
   "pygments_lexer": "ipython3",
   "version": "3.6.3"
  },
  "toc": {
   "colors": {
    "hover_highlight": "#DAA520",
    "navigate_num": "#000000",
    "navigate_text": "#333333",
    "running_highlight": "#FF0000",
    "selected_highlight": "#FFD700",
    "sidebar_border": "#EEEEEE",
    "wrapper_background": "#FFFFFF"
   },
   "moveMenuLeft": true,
   "nav_menu": {
    "height": "153px",
    "width": "252px"
   },
   "navigate_menu": true,
   "number_sections": true,
   "sideBar": true,
   "threshold": 4,
   "toc_cell": false,
   "toc_section_display": "block",
   "toc_window_display": false,
   "widenNotebook": false
  }
 },
 "nbformat": 4,
 "nbformat_minor": 2
}
