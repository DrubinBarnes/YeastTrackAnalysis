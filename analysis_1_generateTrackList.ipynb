{
 "cells": [
  {
   "cell_type": "code",
   "execution_count": 2,
   "metadata": {
    "collapsed": true
   },
   "outputs": [],
   "source": [
    "# by Joh Schöneberg 2018/2019\n",
    "\n",
    "%matplotlib inline\n",
    "import numpy as np\n",
    "import matplotlib.pyplot as plt\n",
    "import pandas as pd\n",
    "\n",
    "runOnJohsComputer = False\n",
    "\n",
    "pathOfTheYeastTrackAnalysisFolder = '/Users/yidi_lab/Desktop/YeastTrackAnalysis-master/'\n",
    "if(runOnJohsComputer):\n",
    "    pathOfTheYeastTrackAnalysisFolder = '/Users/johannesschoeneberg/git/DrubinBarnes/YeastTrackAnalysis/'\n",
    "\n",
    "import sys\n",
    "pythonPackagePath = pathOfTheYeastTrackAnalysisFolder+\"/src/\"\n",
    "sys.path.append(pythonPackagePath)\n",
    "import YeastTrackFunctions as ytf"
   ]
  },
  {
   "cell_type": "markdown",
   "metadata": {},
   "source": [
    "# input data"
   ]
  },
  {
   "cell_type": "code",
   "execution_count": 3,
   "metadata": {
    "collapsed": true
   },
   "outputs": [],
   "source": [
    "path = \"/Users/yidi_lab/Desktop/YeastTrackAnalysis-master/dataToAnalyze/\"\n",
    "if(runOnJohsComputer):\n",
    "    path = \"/Users/johannesschoeneberg/git/DrubinBarnes/YeastTrackAnalysis/sample_data_goodFromExcel/forJoh/\"\n",
    "    \n",
    "\n",
    "\n",
    "# change your filename to the file you want to analyze\n",
    "#path_to_all_tracks_data = path+\"end3/\"\n",
    "path_to_all_tracks_data = path+\"fim1/\"\n",
    "\n",
    "if(runOnJohsComputer):\n",
    "    path_to_all_tracks_data = path+\"sla1/\"\n",
    "\n",
    "\n",
    "goodTrajectoryIDsFilename = 'track_ids_to_be_analyzed.csv'\n",
    "\n"
   ]
  },
  {
   "cell_type": "markdown",
   "metadata": {},
   "source": [
    "# Option 1: Get all the good trackIDs from filenames in a folder"
   ]
  },
  {
   "cell_type": "code",
   "execution_count": 4,
   "metadata": {},
   "outputs": [
    {
     "name": "stdout",
     "output_type": "stream",
     "text": [
      "('[Trajectory number 565].tif', ',', 565)\n",
      "('[Trajectory number 748].tif', ',', 748)\n",
      "('[Trajectory number 334].tif', ',', 334)\n",
      "('[Trajectory number 1190].tif', ',', 1190)\n",
      "('[Trajectory number 904].tif', ',', 904)\n",
      "('[Trajectory number 1797].tif', ',', 1797)\n",
      "('[Trajectory number 895].tif', ',', 895)\n",
      "('[Trajectory number 568].tif', ',', 568)\n",
      "('[Trajectory number 1430].tif', ',', 1430)\n",
      "('[Trajectory number 1250].tif', ',', 1250)\n",
      "('[Trajectory number 538].tif', ',', 538)\n",
      "('[Trajectory number 902].tif', ',', 902)\n",
      "('[Trajectory number 1071].tif', ',', 1071)\n",
      "('[Trajectory number 1548].tif', ',', 1548)\n",
      "('[Trajectory number 1677].tif', ',', 1677)\n",
      "('[Trajectory number 723].tif', ',', 723)\n",
      "('[Trajectory number 1509].tif', ',', 1509)\n",
      "('[Trajectory number 1230].tif', ',', 1230)\n",
      "('[Trajectory number 962].tif', ',', 962)\n",
      "('[Trajectory number 889].tif', ',', 889)\n",
      "('[Trajectory number 1953].tif', ',', 1953)\n",
      "('[Trajectory number 1139].tif', ',', 1139)\n",
      "('[Trajectory number 651].tif', ',', 651)\n",
      "('[Trajectory number 1640].tif', ',', 1640)\n",
      "('[Trajectory number 1197].tif', ',', 1197)\n",
      "('[Trajectory number 1206].tif', ',', 1206)\n",
      "('[Trajectory number 432].tif', ',', 432)\n",
      "('[Trajectory number 520].tif', ',', 520)\n",
      "('[Trajectory number 2330].tif', ',', 2330)\n",
      "('[Trajectory number 1009].tif', ',', 1009)\n",
      "('[Trajectory number 1320].tif', ',', 1320)\n",
      "('[Trajectory number 409].tif', ',', 409)\n",
      "('[Trajectory number 1269].tif', ',', 1269)\n",
      "('[Trajectory number 852].tif', ',', 852)\n",
      "('[Trajectory number 813].tif', ',', 813)\n",
      "('[Trajectory number 1156].tif', ',', 1156)\n",
      "('[Trajectory number 398].tif', ',', 398)\n",
      "('[Trajectory number 286].tif', ',', 286)\n",
      "('[Trajectory number 1110].tif', ',', 1110)\n",
      "('[Trajectory number 1215].tif', ',', 1215)\n",
      "('[Trajectory number 1887].tif', ',', 1887)\n",
      "('[Trajectory number 316].tif', ',', 316)\n",
      "('[Trajectory number 496].tif', ',', 496)\n",
      "('[Trajectory number 615].tif', ',', 615)\n",
      "('[Trajectory number 1653].tif', ',', 1653)\n",
      "('[Trajectory number 1740].tif', ',', 1740)\n",
      "('[Trajectory number 679].tif', ',', 679)\n",
      "('[Trajectory number 1111].tif', ',', 1111)\n",
      "('[Trajectory number 803].tif', ',', 803)\n",
      "('[Trajectory number 1170].tif', ',', 1170)\n",
      "('[Trajectory number 1561].tif', ',', 1561)\n",
      "('[Trajectory number 435].tif', ',', 435)\n",
      "('[Trajectory number 1648].tif', ',', 1648)\n",
      "('[Trajectory number 1449].tif', ',', 1449)\n",
      "[ 286  316  334  398  409  432  435  496  520  538  565  568  615  651  679\n",
      "  723  748  803  813  852  889  895  902  904  962 1009 1071 1110 1111 1139\n",
      " 1156 1170 1190 1197 1206 1215 1230 1250 1269 1320 1430 1449 1509 1548 1561\n",
      " 1640 1648 1653 1677 1740 1797 1887 1953 2330]\n",
      "/Users/yidi_lab/Desktop/YeastTrackAnalysis-master/dataToAnalyze/track_ids_to_be_analyzed.csv\n"
     ]
    }
   ],
   "source": [
    "from os import listdir\n",
    "from os.path import isfile, join\n",
    "onlyfiles = [f for f in listdir(path_to_all_tracks_data) if isfile(join(path_to_all_tracks_data, f))]\n",
    "#print(onlyfiles)\n",
    "\n",
    "\n",
    "goodTrajectoryIDs = []\n",
    "for filename in onlyfiles:\n",
    "    if (filename != '.DS_Store'):\n",
    "        if '.csv' not in filename:\n",
    "            if '.png' not in filename:\n",
    "                number = int((filename.replace('[Trajectory number ','')).replace('].tif',''))\n",
    "                print(filename,\",\",number)\n",
    "                goodTrajectoryIDs.append(number)\n",
    "goodTrajectoryIDs = np.sort(goodTrajectoryIDs)\n",
    "print(goodTrajectoryIDs)\n",
    "\n",
    "\n",
    "# write the good trajectories out into a new csv file\n",
    "# you can open this file in excel and delete the track IDs you dont want\n",
    "\n",
    "trackNumbersFilePath = path+goodTrajectoryIDsFilename\n",
    "df = pd.DataFrame()\n",
    "df['trackIds'] = goodTrajectoryIDs\n",
    "df.to_csv(trackNumbersFilePath,index=False,header=False)\n",
    "print(trackNumbersFilePath)"
   ]
  },
  {
   "cell_type": "code",
   "execution_count": null,
   "metadata": {
    "collapsed": true
   },
   "outputs": [],
   "source": []
  }
 ],
 "metadata": {
  "kernelspec": {
   "display_name": "Python 2",
   "language": "python",
   "name": "python2"
  },
  "language_info": {
   "codemirror_mode": {
    "name": "ipython",
    "version": 2
   },
   "file_extension": ".py",
   "mimetype": "text/x-python",
   "name": "python",
   "nbconvert_exporter": "python",
   "pygments_lexer": "ipython2",
   "version": "2.7.13"
  },
  "toc": {
   "colors": {
    "hover_highlight": "#DAA520",
    "navigate_num": "#000000",
    "navigate_text": "#333333",
    "running_highlight": "#FF0000",
    "selected_highlight": "#FFD700",
    "sidebar_border": "#EEEEEE",
    "wrapper_background": "#FFFFFF"
   },
   "moveMenuLeft": true,
   "nav_menu": {
    "height": "153px",
    "width": "252px"
   },
   "navigate_menu": true,
   "number_sections": true,
   "sideBar": true,
   "threshold": 4,
   "toc_cell": false,
   "toc_section_display": "block",
   "toc_window_display": false,
   "widenNotebook": false
  }
 },
 "nbformat": 4,
 "nbformat_minor": 2
}
