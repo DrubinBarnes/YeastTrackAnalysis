{
 "cells": [
  {
   "cell_type": "code",
   "execution_count": 1,
   "metadata": {
    "collapsed": true
   },
   "outputs": [],
   "source": [
    "# by Joh Schöneberg 2018/2019\n",
    "\n",
    "%matplotlib inline\n",
    "import numpy as np\n",
    "import matplotlib.pyplot as plt\n",
    "import pandas as pd\n",
    "\n",
    "pathOfTheYeastTrackAnalysisFolder = '/Users/yidi_lab/Desktop/YeastTrackAnalysis-master/'\n",
    "#pathOfTheYeastTrackAnalysisFolder = '/Users/johannesschoeneberg/git/DrubinBarnes/YeastTrackAnalysis/'\n",
    "\n",
    "import sys\n",
    "pythonPackagePath = pathOfTheYeastTrackAnalysisFolder+\"/src/\"\n",
    "sys.path.append(pythonPackagePath)\n",
    "import YeastTrackFunctions as ytf"
   ]
  },
  {
   "cell_type": "markdown",
   "metadata": {},
   "source": [
    "# input data"
   ]
  },
  {
   "cell_type": "code",
   "execution_count": 4,
   "metadata": {
    "collapsed": true
   },
   "outputs": [],
   "source": [
    "path = \"/Users/yidi_lab/Desktop/YeastTrackAnalysis-master/dataToAnalyze/\"\n",
    "#path = \"/Users/johannesschoeneberg/git/DrubinBarnes/YeastTrackAnalysis/sample_data_goodFromExcel/forJoh/\"\n",
    "\n",
    "\n",
    "# change your filename to the file you want to analyze\n",
    "#path_to_all_tracks_data = path+\"end3/\"\n",
    "path_to_all_tracks_data = path+\"pan1sp/\"\n",
    "\n",
    "\n",
    "goodTrajectoryIDsFilename = 'track_ids_to_be_analyzed.csv'\n",
    "\n"
   ]
  },
  {
   "cell_type": "markdown",
   "metadata": {},
   "source": [
    "# Option 1: Get all the good trackIDs from filenames in a folder"
   ]
  },
  {
   "cell_type": "code",
   "execution_count": 5,
   "metadata": {},
   "outputs": [
    {
     "name": "stdout",
     "output_type": "stream",
     "text": [
      "('[Trajectory number 498].tif', ',', 498)\n",
      "('[Trajectory number 226].tif', ',', 226)\n",
      "('[Trajectory number 247].tif', ',', 247)\n",
      "('[Trajectory number 142].tif', ',', 142)\n",
      "('[Trajectory number 293].tif', ',', 293)\n",
      "('[Trajectory number 246].tif', ',', 246)\n",
      "('[Trajectory number 353].tif', ',', 353)\n",
      "('[Trajectory number 187].tif', ',', 187)\n",
      "('[Trajectory number 312].tif', ',', 312)\n",
      "('[Trajectory number 220].tif', ',', 220)\n",
      "('[Trajectory number 324].tif', ',', 324)\n",
      "('[Trajectory number 261].tif', ',', 261)\n",
      "('[Trajectory number 344].tif', ',', 344)\n",
      "('[Trajectory number 31].tif', ',', 31)\n",
      "('[Trajectory number 66].tif', ',', 66)\n",
      "('[Trajectory number 189].tif', ',', 189)\n",
      "('[Trajectory number 84].tif', ',', 84)\n",
      "('[Trajectory number 147].tif', ',', 147)\n",
      "('[Trajectory number 224].tif', ',', 224)\n",
      "('[Trajectory number 199].tif', ',', 199)\n",
      "('[Trajectory number 415].tif', ',', 415)\n",
      "[ 31  66  84 142 147 187 189 199 220 224 226 246 247 261 293 312 324 344\n",
      " 353 415 498]\n",
      "/Users/yidi_lab/Desktop/YeastTrackAnalysis-master/dataToAnalyze/track_ids_to_be_analyzed.csv\n"
     ]
    }
   ],
   "source": [
    "from os import listdir\n",
    "from os.path import isfile, join\n",
    "onlyfiles = [f for f in listdir(path_to_all_tracks_data) if isfile(join(path_to_all_tracks_data, f))]\n",
    "#print(onlyfiles)\n",
    "\n",
    "\n",
    "goodTrajectoryIDs = []\n",
    "for filename in onlyfiles:\n",
    "    if (filename != '.DS_Store'):\n",
    "        if '.csv' not in filename:\n",
    "            if '.png' not in filename:\n",
    "                number = int((filename.replace('[Trajectory number ','')).replace('].tif',''))\n",
    "                print(filename,\",\",number)\n",
    "                goodTrajectoryIDs.append(number)\n",
    "goodTrajectoryIDs = np.sort(goodTrajectoryIDs)\n",
    "print(goodTrajectoryIDs)\n",
    "\n",
    "\n",
    "# write the good trajectories out into a new csv file\n",
    "# you can open this file in excel and delete the track IDs you dont want\n",
    "\n",
    "trackNumbersFilePath = path+goodTrajectoryIDsFilename\n",
    "df = pd.DataFrame()\n",
    "df['trackIds'] = goodTrajectoryIDs\n",
    "df.to_csv(trackNumbersFilePath,index=False,header=False)\n",
    "print(trackNumbersFilePath)"
   ]
  },
  {
   "cell_type": "code",
   "execution_count": null,
   "metadata": {
    "collapsed": true
   },
   "outputs": [],
   "source": []
  }
 ],
 "metadata": {
  "kernelspec": {
   "display_name": "Python 2",
   "language": "python",
   "name": "python2"
  },
  "language_info": {
   "codemirror_mode": {
    "name": "ipython",
    "version": 2
   },
   "file_extension": ".py",
   "mimetype": "text/x-python",
   "name": "python",
   "nbconvert_exporter": "python",
   "pygments_lexer": "ipython2",
   "version": "2.7.13"
  },
  "toc": {
   "colors": {
    "hover_highlight": "#DAA520",
    "navigate_num": "#000000",
    "navigate_text": "#333333",
    "running_highlight": "#FF0000",
    "selected_highlight": "#FFD700",
    "sidebar_border": "#EEEEEE",
    "wrapper_background": "#FFFFFF"
   },
   "moveMenuLeft": true,
   "nav_menu": {
    "height": "153px",
    "width": "252px"
   },
   "navigate_menu": true,
   "number_sections": true,
   "sideBar": true,
   "threshold": 4,
   "toc_cell": false,
   "toc_section_display": "block",
   "toc_window_display": false,
   "widenNotebook": false
  }
 },
 "nbformat": 4,
 "nbformat_minor": 2
}
