{
 "cells": [
  {
   "cell_type": "code",
   "execution_count": 119,
   "metadata": {
    "collapsed": true
   },
   "outputs": [],
   "source": [
    "# by Joh Schöneberg 2018/2019\n",
    "\n",
    "%matplotlib inline\n",
    "import numpy as np\n",
    "import matplotlib.pyplot as plt\n",
    "import pandas as pd\n",
    "\n",
    "pathOfTheYeastTrackAnalysisFolder = '/Users/yidi_lab/Desktop/YeastTrackAnalysis-master/'\n",
    "#pathOfTheYeastTrackAnalysisFolder = '/Users/johannesschoeneberg/git/DrubinBarnes/YeastTrackAnalysis/'\n",
    "\n",
    "import sys\n",
    "pythonPackagePath = pathOfTheYeastTrackAnalysisFolder+\"/src/\"\n",
    "sys.path.append(pythonPackagePath)\n",
    "import YeastTrackFunctions as ytf"
   ]
  },
  {
   "cell_type": "markdown",
   "metadata": {},
   "source": [
    "# input data"
   ]
  },
  {
   "cell_type": "code",
   "execution_count": 120,
   "metadata": {
    "collapsed": true
   },
   "outputs": [],
   "source": [
    "path = \"/Users/yidi_lab/Desktop/YeastTrackAnalysis-master/dataToAnalyze/\"\n",
    "#path = \"/Users/johannesschoeneberg/git/DrubinBarnes/YeastTrackAnalysis/sample_data_goodFromExcel/forJoh/\"\n",
    "\n",
    "\n",
    "# change your filename to the file you want to analyze\n",
    "#path_to_all_tracks_data = path+\"end3/\"\n",
    "path_to_all_tracks_data = path+\"pan1/\"\n",
    "\n",
    "\n",
    "goodTrajectoryIDsFilename = 'track_ids_to_be_analyzed.csv'\n",
    "\n"
   ]
  },
  {
   "cell_type": "markdown",
   "metadata": {},
   "source": [
    "# Option 1: Get all the good trackIDs from filenames in a folder"
   ]
  },
  {
   "cell_type": "code",
   "execution_count": 121,
   "metadata": {},
   "outputs": [
    {
     "name": "stdout",
     "output_type": "stream",
     "text": [
      "('[Trajectory number 174].tif', ',', 174)\n",
      "('[Trajectory number 319].tif', ',', 319)\n",
      "('[Trajectory number 460].tif', ',', 460)\n",
      "('[Trajectory number 28].tif', ',', 28)\n",
      "('[Trajectory number 186].tif', ',', 186)\n",
      "('[Trajectory number 305].tif', ',', 305)\n",
      "('[Trajectory number 65].tif', ',', 65)\n",
      "('[Trajectory number 404].tif', ',', 404)\n",
      "('[Trajectory number 27].tif', ',', 27)\n",
      "('[Trajectory number 326].tif', ',', 326)\n",
      "('[Trajectory number 50].tif', ',', 50)\n",
      "('[Trajectory number 93].tif', ',', 93)\n",
      "('[Trajectory number 258].tif', ',', 258)\n",
      "('[Trajectory number 51].tif', ',', 51)\n",
      "('[Trajectory number 176].tif', ',', 176)\n",
      "('[Trajectory number 60].tif', ',', 60)\n",
      "('[Trajectory number 77].tif', ',', 77)\n",
      "[ 27  28  50  51  60  65  77  93 174 176 186 258 305 319 326 404 460]\n",
      "/Users/yidi_lab/Desktop/YeastTrackAnalysis-master/dataToAnalyze/track_ids_to_be_analyzed.csv\n"
     ]
    }
   ],
   "source": [
    "from os import listdir\n",
    "from os.path import isfile, join\n",
    "onlyfiles = [f for f in listdir(path_to_all_tracks_data) if isfile(join(path_to_all_tracks_data, f))]\n",
    "#print(onlyfiles)\n",
    "\n",
    "\n",
    "goodTrajectoryIDs = []\n",
    "for filename in onlyfiles:\n",
    "    if (filename != '.DS_Store'):\n",
    "        if '.csv' not in filename:\n",
    "            if '.png' not in filename:\n",
    "                number = int((filename.replace('[Trajectory number ','')).replace('].tif',''))\n",
    "                print(filename,\",\",number)\n",
    "                goodTrajectoryIDs.append(number)\n",
    "goodTrajectoryIDs = np.sort(goodTrajectoryIDs)\n",
    "print(goodTrajectoryIDs)\n",
    "\n",
    "\n",
    "# write the good trajectories out into a new csv file\n",
    "# you can open this file in excel and delete the track IDs you dont want\n",
    "\n",
    "trackNumbersFilePath = path+goodTrajectoryIDsFilename\n",
    "df = pd.DataFrame()\n",
    "df['trackIds'] = goodTrajectoryIDs\n",
    "df.to_csv(trackNumbersFilePath,index=False,header=False)\n",
    "print(trackNumbersFilePath)"
   ]
  },
  {
   "cell_type": "code",
   "execution_count": null,
   "metadata": {
    "collapsed": true
   },
   "outputs": [],
   "source": []
  }
 ],
 "metadata": {
  "kernelspec": {
   "display_name": "Python 2",
   "language": "python",
   "name": "python2"
  },
  "language_info": {
   "codemirror_mode": {
    "name": "ipython",
    "version": 2
   },
   "file_extension": ".py",
   "mimetype": "text/x-python",
   "name": "python",
   "nbconvert_exporter": "python",
   "pygments_lexer": "ipython2",
   "version": "2.7.13"
  },
  "toc": {
   "colors": {
    "hover_highlight": "#DAA520",
    "navigate_num": "#000000",
    "navigate_text": "#333333",
    "running_highlight": "#FF0000",
    "selected_highlight": "#FFD700",
    "sidebar_border": "#EEEEEE",
    "wrapper_background": "#FFFFFF"
   },
   "moveMenuLeft": true,
   "nav_menu": {
    "height": "153px",
    "width": "252px"
   },
   "navigate_menu": true,
   "number_sections": true,
   "sideBar": true,
   "threshold": 4,
   "toc_cell": false,
   "toc_section_display": "block",
   "toc_window_display": false,
   "widenNotebook": false
  }
 },
 "nbformat": 4,
 "nbformat_minor": 2
}
